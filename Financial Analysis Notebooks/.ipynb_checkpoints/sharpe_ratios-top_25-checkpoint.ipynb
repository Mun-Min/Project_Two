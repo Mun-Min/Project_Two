{
 "cells": [
  {
   "cell_type": "markdown",
   "metadata": {},
   "source": [
    "### Import Libraries and Dependencies"
   ]
  },
  {
   "cell_type": "code",
   "execution_count": 35,
   "metadata": {},
   "outputs": [],
   "source": [
    "import pandas as pd\n",
    "import numpy as np\n",
    "from pathlib import Path\n",
    "!pip install quandl\n",
    "import quandl\n",
    "%matplotlib inline"
   ]
  },
  {
   "cell_type": "markdown",
   "metadata": {},
   "source": [
    "### Read data"
   ]
  },
  {
   "cell_type": "code",
   "execution_count": 46,
   "metadata": {},
   "outputs": [
    {
     "data": {
      "text/html": [
       "<div>\n",
       "<style scoped>\n",
       "    .dataframe tbody tr th:only-of-type {\n",
       "        vertical-align: middle;\n",
       "    }\n",
       "\n",
       "    .dataframe tbody tr th {\n",
       "        vertical-align: top;\n",
       "    }\n",
       "\n",
       "    .dataframe thead th {\n",
       "        text-align: right;\n",
       "    }\n",
       "</style>\n",
       "<table border=\"1\" class=\"dataframe\">\n",
       "  <thead>\n",
       "    <tr style=\"text-align: right;\">\n",
       "      <th></th>\n",
       "      <th>AAPL</th>\n",
       "      <th>MSFT</th>\n",
       "      <th>GOOG</th>\n",
       "      <th>FB</th>\n",
       "      <th>AMZN</th>\n",
       "    </tr>\n",
       "    <tr>\n",
       "      <th>Date</th>\n",
       "      <th></th>\n",
       "      <th></th>\n",
       "      <th></th>\n",
       "      <th></th>\n",
       "      <th></th>\n",
       "    </tr>\n",
       "  </thead>\n",
       "  <tbody>\n",
       "    <tr>\n",
       "      <th>2019-08-23</th>\n",
       "      <td>202.64</td>\n",
       "      <td>133.39</td>\n",
       "      <td>1151.29</td>\n",
       "      <td>177.75</td>\n",
       "      <td>1749.62</td>\n",
       "    </tr>\n",
       "    <tr>\n",
       "      <th>2019-08-22</th>\n",
       "      <td>212.46</td>\n",
       "      <td>137.78</td>\n",
       "      <td>1189.53</td>\n",
       "      <td>182.04</td>\n",
       "      <td>1805.60</td>\n",
       "    </tr>\n",
       "    <tr>\n",
       "      <th>2019-08-21</th>\n",
       "      <td>212.64</td>\n",
       "      <td>138.79</td>\n",
       "      <td>1191.25</td>\n",
       "      <td>183.55</td>\n",
       "      <td>1823.54</td>\n",
       "    </tr>\n",
       "    <tr>\n",
       "      <th>2019-08-20</th>\n",
       "      <td>210.36</td>\n",
       "      <td>137.26</td>\n",
       "      <td>1182.69</td>\n",
       "      <td>183.81</td>\n",
       "      <td>1801.38</td>\n",
       "    </tr>\n",
       "    <tr>\n",
       "      <th>2019-08-19</th>\n",
       "      <td>210.35</td>\n",
       "      <td>138.41</td>\n",
       "      <td>1198.45</td>\n",
       "      <td>186.17</td>\n",
       "      <td>1816.12</td>\n",
       "    </tr>\n",
       "  </tbody>\n",
       "</table>\n",
       "</div>"
      ],
      "text/plain": [
       "              AAPL    MSFT     GOOG      FB     AMZN\n",
       "Date                                                \n",
       "2019-08-23  202.64  133.39  1151.29  177.75  1749.62\n",
       "2019-08-22  212.46  137.78  1189.53  182.04  1805.60\n",
       "2019-08-21  212.64  138.79  1191.25  183.55  1823.54\n",
       "2019-08-20  210.36  137.26  1182.69  183.81  1801.38\n",
       "2019-08-19  210.35  138.41  1198.45  186.17  1816.12"
      ]
     },
     "execution_count": 46,
     "metadata": {},
     "output_type": "execute_result"
    }
   ],
   "source": [
    "portfolio_a_path = Path(\"../Resources/tech_stocks_2018_a.csv\")\n",
    "portfolio_b_path = Path(\"../Resources/tech_stocks_2018_b.csv\")\n",
    "risk_free_rate_path= Path(\"../Resources/risk_free_rate.csv\")\n",
    "\n",
    "portfolio_a = pd.read_csv(portfolio_a_path, index_col='Date', parse_dates=True, infer_datetime_format=True)\n",
    "portfolio_b = pd.read_csv(portfolio_b_path, index_col='Date', parse_dates=True, infer_datetime_format=True)\n",
    "risk_free_rate = pd.read_csv(risk_free_rate_path, index_col='Date', parse_dates=True, infer_datetime_format=True)\n",
    "\n",
    "portfolio_a.head()"
   ]
  },
  {
   "cell_type": "markdown",
   "metadata": {},
   "source": [
    "### Calculate Annualized Std Dev"
   ]
  },
  {
   "cell_type": "code",
   "execution_count": 47,
   "metadata": {},
   "outputs": [
    {
     "data": {
      "text/html": [
       "<div>\n",
       "<style scoped>\n",
       "    .dataframe tbody tr th:only-of-type {\n",
       "        vertical-align: middle;\n",
       "    }\n",
       "\n",
       "    .dataframe tbody tr th {\n",
       "        vertical-align: top;\n",
       "    }\n",
       "\n",
       "    .dataframe thead th {\n",
       "        text-align: right;\n",
       "    }\n",
       "</style>\n",
       "<table border=\"1\" class=\"dataframe\">\n",
       "  <thead>\n",
       "    <tr style=\"text-align: right;\">\n",
       "      <th></th>\n",
       "      <th>AAPL</th>\n",
       "      <th>MSFT</th>\n",
       "      <th>GOOG</th>\n",
       "      <th>FB</th>\n",
       "      <th>AMZN</th>\n",
       "      <th>SNE</th>\n",
       "      <th>AMD</th>\n",
       "      <th>TWTR</th>\n",
       "      <th>IBM</th>\n",
       "      <th>MU</th>\n",
       "      <th>rf_rate</th>\n",
       "    </tr>\n",
       "    <tr>\n",
       "      <th>Date</th>\n",
       "      <th></th>\n",
       "      <th></th>\n",
       "      <th></th>\n",
       "      <th></th>\n",
       "      <th></th>\n",
       "      <th></th>\n",
       "      <th></th>\n",
       "      <th></th>\n",
       "      <th></th>\n",
       "      <th></th>\n",
       "      <th></th>\n",
       "    </tr>\n",
       "  </thead>\n",
       "  <tbody>\n",
       "    <tr>\n",
       "      <th>2019-08-22</th>\n",
       "      <td>0.048460</td>\n",
       "      <td>0.032911</td>\n",
       "      <td>0.033215</td>\n",
       "      <td>0.024135</td>\n",
       "      <td>0.031996</td>\n",
       "      <td>-0.729718</td>\n",
       "      <td>-0.760852</td>\n",
       "      <td>-0.963363</td>\n",
       "      <td>-0.244332</td>\n",
       "      <td>0.042365</td>\n",
       "      <td>0.000218</td>\n",
       "    </tr>\n",
       "    <tr>\n",
       "      <th>2019-08-21</th>\n",
       "      <td>0.000847</td>\n",
       "      <td>0.007331</td>\n",
       "      <td>0.001446</td>\n",
       "      <td>0.008295</td>\n",
       "      <td>0.009936</td>\n",
       "      <td>0.034325</td>\n",
       "      <td>-0.006270</td>\n",
       "      <td>0.014699</td>\n",
       "      <td>-0.000521</td>\n",
       "      <td>-0.013622</td>\n",
       "      <td>0.000214</td>\n",
       "    </tr>\n",
       "    <tr>\n",
       "      <th>2019-08-20</th>\n",
       "      <td>-0.010722</td>\n",
       "      <td>-0.011024</td>\n",
       "      <td>-0.007186</td>\n",
       "      <td>0.001417</td>\n",
       "      <td>-0.012152</td>\n",
       "      <td>-0.017476</td>\n",
       "      <td>-0.030915</td>\n",
       "      <td>-0.011916</td>\n",
       "      <td>-0.009311</td>\n",
       "      <td>0.001358</td>\n",
       "      <td>0.000211</td>\n",
       "    </tr>\n",
       "    <tr>\n",
       "      <th>2019-08-19</th>\n",
       "      <td>-0.000048</td>\n",
       "      <td>0.008378</td>\n",
       "      <td>0.013326</td>\n",
       "      <td>0.012839</td>\n",
       "      <td>0.008183</td>\n",
       "      <td>0.001078</td>\n",
       "      <td>0.024740</td>\n",
       "      <td>-0.013951</td>\n",
       "      <td>0.015338</td>\n",
       "      <td>0.017635</td>\n",
       "      <td>0.000211</td>\n",
       "    </tr>\n",
       "    <tr>\n",
       "      <th>2019-08-16</th>\n",
       "      <td>-0.018303</td>\n",
       "      <td>-0.016473</td>\n",
       "      <td>-0.017397</td>\n",
       "      <td>-0.013267</td>\n",
       "      <td>-0.012967</td>\n",
       "      <td>0.000179</td>\n",
       "      <td>-0.009530</td>\n",
       "      <td>-0.026859</td>\n",
       "      <td>-0.009479</td>\n",
       "      <td>-0.032437</td>\n",
       "      <td>0.000203</td>\n",
       "    </tr>\n",
       "  </tbody>\n",
       "</table>\n",
       "</div>"
      ],
      "text/plain": [
       "                AAPL      MSFT      GOOG        FB      AMZN       SNE  \\\n",
       "Date                                                                     \n",
       "2019-08-22  0.048460  0.032911  0.033215  0.024135  0.031996 -0.729718   \n",
       "2019-08-21  0.000847  0.007331  0.001446  0.008295  0.009936  0.034325   \n",
       "2019-08-20 -0.010722 -0.011024 -0.007186  0.001417 -0.012152 -0.017476   \n",
       "2019-08-19 -0.000048  0.008378  0.013326  0.012839  0.008183  0.001078   \n",
       "2019-08-16 -0.018303 -0.016473 -0.017397 -0.013267 -0.012967  0.000179   \n",
       "\n",
       "                 AMD      TWTR       IBM        MU   rf_rate  \n",
       "Date                                                          \n",
       "2019-08-22 -0.760852 -0.963363 -0.244332  0.042365  0.000218  \n",
       "2019-08-21 -0.006270  0.014699 -0.000521 -0.013622  0.000214  \n",
       "2019-08-20 -0.030915 -0.011916 -0.009311  0.001358  0.000211  \n",
       "2019-08-19  0.024740 -0.013951  0.015338  0.017635  0.000211  \n",
       "2019-08-16 -0.009530 -0.026859 -0.009479 -0.032437  0.000203  "
      ]
     },
     "execution_count": 47,
     "metadata": {},
     "output_type": "execute_result"
    }
   ],
   "source": [
    "# Calculate daily returns\n",
    "portfolio_a_returns = portfolio_a.pct_change().dropna()\n",
    "portfolio_b_returns = portfolio_b.pct_change().dropna()\n",
    "\n",
    "# Concat returns into one DataFrame\n",
    "all_portfolios_returns = pd.concat([portfolio_a_returns, portfolio_b_returns, risk_free_rate], axis='columns', join='inner')\n",
    "all_portfolios_returns.head()"
   ]
  },
  {
   "cell_type": "code",
   "execution_count": 48,
   "metadata": {},
   "outputs": [
    {
     "data": {
      "text/plain": [
       "AAPL       0.161304\n",
       "MSFT      -0.872791\n",
       "GOOG       0.054654\n",
       "FB        -0.068155\n",
       "AMZN       0.239453\n",
       "SNE       -0.930438\n",
       "AMD       -0.923004\n",
       "TWTR      -1.026140\n",
       "IBM       -0.598469\n",
       "MU         0.419254\n",
       "rf_rate    0.000000\n",
       "dtype: float64"
      ]
     },
     "execution_count": 48,
     "metadata": {},
     "output_type": "execute_result"
    }
   ],
   "source": [
    "# Calculate Sharpe Ratio\n",
    "sharpe_ratios = ((all_portfolios_returns.mean()-all_portfolios_returns['rf_rate'].mean()) * 252) / (all_portfolios_returns.std() * np.sqrt(252))\n",
    "sharpe_ratios"
   ]
  },
  {
   "cell_type": "markdown",
   "metadata": {},
   "source": [
    "### Plot sharpe ratios"
   ]
  },
  {
   "cell_type": "code",
   "execution_count": 49,
   "metadata": {},
   "outputs": [
    {
     "data": {
      "text/plain": [
       "<matplotlib.axes._subplots.AxesSubplot at 0x16b1e9cd9a0>"
      ]
     },
     "execution_count": 49,
     "metadata": {},
     "output_type": "execute_result"
    },
    {
     "data": {
      "image/png": "[encoded data removed]",
      "text/plain": [
       "<Figure size 432x288 with 1 Axes>"
      ]
     },
     "metadata": {
      "needs_background": "light"
     },
     "output_type": "display_data"
    }
   ],
   "source": [
    "# Plot sharpe ratios\n",
    "sharpe_ratios.plot(kind=\"bar\", title=\"Sharpe Ratios\")"
   ]
  }
 ],
 "metadata": {
  "kernelspec": {
   "display_name": "Python 3 (ipykernel)",
   "language": "python",
   "name": "python3"
  },
  "language_info": {
   "codemirror_mode": {
    "name": "ipython",
    "version": 3
   },
   "file_extension": ".py",
   "mimetype": "text/x-python",
   "name": "python",
   "nbconvert_exporter": "python",
   "pygments_lexer": "ipython3",
   "version": "3.7.13"
  }
 },
 "nbformat": 4,
 "nbformat_minor": 4
}
