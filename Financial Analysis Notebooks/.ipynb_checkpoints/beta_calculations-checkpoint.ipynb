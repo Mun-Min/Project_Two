{
 "cells": [
  {
   "cell_type": "markdown",
   "metadata": {},
   "source": [
    "### Calculating Beta for Top 25 S&P500\n",
    "\n",
    "This program reads in the daily closing prices of the top 25 stocks in the S&P500 and calculates the beta values."
   ]
  },
  {
   "cell_type": "code",
   "execution_count": 2,
   "metadata": {},
   "outputs": [],
   "source": [
    "# Import libraries and dependencies\n",
    "import numpy as np\n",
    "import pandas_datareader as pdr\n",
    "import datetime as dt\n",
    "import pandas as pd\n",
    "from sklearn.linear_model import LinearRegression\n",
    " \n",
    "tickers = ['AAPL', 'ABBV', 'AMZN', 'BAC', 'BRK-B', 'CVX', 'GOOGL', 'GOOG', 'HD', 'JNJ', 'JPM',\n",
    "          'KO', 'LLY', 'MA', 'META', 'MRK', 'MSFT', 'NVDA', 'PEP', 'PFE', 'PG', 'TSLA', 'UNH', 'V', 'XOM', '^GSPC']\n",
    "start = dt.datetime(2012, 10, 31)\n",
    "end = dt.datetime(2022, 10, 28)\n",
    " \n",
    "data = pdr.get_data_yahoo(tickers, start, end, interval=\"m\")\n",
    " \n",
    "data = data['Adj Close']\n",
    " \n",
    "log_returns = np.log(data/data.shift())\n"
   ]
  },
  {
   "cell_type": "code",
   "execution_count": 19,
   "metadata": {},
   "outputs": [
    {
     "name": "stdout",
     "output_type": "stream",
     "text": [
      "The Beta of the top 25 stocks in the S&P 500 are:  Symbols\n",
      "AAPL     1.206670\n",
      "ABBV     0.850271\n",
      "AMZN     1.262841\n",
      "BAC      1.414731\n",
      "BRK-B    0.897049\n",
      "CVX      1.163672\n",
      "GOOGL    1.029036\n",
      "GOOG     1.027596\n",
      "HD       0.978358\n",
      "JNJ      0.600632\n",
      "JPM      1.171190\n",
      "KO       0.636172\n",
      "LLY      0.325735\n",
      "MA       1.117433\n",
      "META     1.034769\n",
      "MRK      0.472645\n",
      "MSFT     0.916416\n",
      "NVDA     1.634955\n",
      "PEP      0.617423\n",
      "PFE      0.715729\n",
      "PG       0.450346\n",
      "TSLA     1.570585\n",
      "UNH      0.709490\n",
      "V        0.943686\n",
      "XOM      1.060405\n",
      "Name: ^GSPC, dtype: float64\n"
     ]
    }
   ],
   "source": [
    "cov = log_returns.cov()\n",
    "var = log_returns['^GSPC'].var()\n",
    "stock = ['AAPL', 'ABBV', 'AMZN', 'BAC', 'BRK-B', 'CVX', 'GOOGL', 'GOOG', 'HD', 'JNJ', 'JPM',\n",
    "          'KO', 'LLY', 'MA', 'META', 'MRK', 'MSFT', 'NVDA', 'PEP', 'PFE', 'PG', 'TSLA', 'UNH', 'V', 'XOM']\n",
    "cov_stock=cov.loc[stock, '^GSPC']/var\n",
    "\n",
    "text = print(\"The Beta of the top 25 stocks in the S&P 500 are: \",cov.loc[stock, '^GSPC']/var)\n",
    "\n",
    "with open(\"beta_sp500.txt\", \"w\") as text_file:\n",
    "    print(f\"The Beta of the top 25 stocks in the S&P 500 are: {cov_stock}\", file=text_file)\n",
    "\n"
   ]
  },
  {
   "cell_type": "code",
   "execution_count": 34,
   "metadata": {},
   "outputs": [
    {
     "data": {
      "text/plain": [
       "<AxesSubplot:xlabel='Symbols'>"
      ]
     },
     "execution_count": 34,
     "metadata": {},
     "output_type": "execute_result"
    },
    {
     "data": {
      "image/png": "[encoded data removed]",
      "text/plain": [
       "<Figure size 864x432 with 1 Axes>"
      ]
     },
     "metadata": {
      "needs_background": "light"
     },
     "output_type": "display_data"
    }
   ],
   "source": [
    "cov_stock.plot.bar(figsize=(12,6))"
   ]
  },
  {
   "cell_type": "code",
   "execution_count": null,
   "metadata": {},
   "outputs": [],
   "source": []
  }
 ],
 "metadata": {
  "kernelspec": {
   "display_name": "Python 3 (ipykernel)",
   "language": "python",
   "name": "python3"
  },
  "language_info": {
   "codemirror_mode": {
    "name": "ipython",
    "version": 3
   },
   "file_extension": ".py",
   "mimetype": "text/x-python",
   "name": "python",
   "nbconvert_exporter": "python",
   "pygments_lexer": "ipython3",
   "version": "3.7.13"
  }
 },
 "nbformat": 4,
 "nbformat_minor": 4
}
